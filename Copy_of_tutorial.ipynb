{
  "nbformat": 4,
  "nbformat_minor": 0,
  "metadata": {
    "colab": {
      "name": "Copy of tutorial.ipynb",
      "provenance": [],
      "authorship_tag": "ABX9TyMmPtx2EJ9aATst1QuVyts2",
      "include_colab_link": true
    },
    "kernelspec": {
      "name": "python3",
      "display_name": "Python 3"
    }
  },
  "cells": [
    {
      "cell_type": "markdown",
      "metadata": {
        "id": "view-in-github",
        "colab_type": "text"
      },
      "source": [
        "<a href=\"https://colab.research.google.com/github/cohenr51/Hello-World-2/blob/master/Copy_of_tutorial.ipynb\" target=\"_parent\"><img src=\"https://colab.research.google.com/assets/colab-badge.svg\" alt=\"Open In Colab\"/></a>"
      ]
    },
    {
      "cell_type": "code",
      "metadata": {
        "colab": {
          "base_uri": "https://localhost:8080/"
        },
        "id": "M9wRaAm0-Pe0",
        "outputId": "1f48be02-11c2-492c-d90f-ce19c08a1b73"
      },
      "source": [
        "time.sleep(5)\r\n",
        "print (time.ctime())"
      ],
      "execution_count": null,
      "outputs": [
        {
          "output_type": "stream",
          "text": [
            "Sat Feb 27 19:50:05 2021\n"
          ],
          "name": "stdout"
        }
      ]
    },
    {
      "cell_type": "markdown",
      "metadata": {
        "id": "Fx5J_XugFpeB"
      },
      "source": [
        "*italicized text*"
      ]
    },
    {
      "cell_type": "code",
      "metadata": {
        "id": "UsyVbwoPFsgg"
      },
      "source": [
        ""
      ],
      "execution_count": null,
      "outputs": []
    },
    {
      "cell_type": "markdown",
      "metadata": {
        "id": "pWyPrSNGGFbV"
      },
      "source": [
        "$\\sqrt{3x-1}^2$"
      ]
    },
    {
      "cell_type": "markdown",
      "metadata": {
        "id": "WK3k77KLGa-3"
      },
      "source": [
        "$e^x = \\sum_{i=0}^\\infty \\frac{1}{i!}x^i$"
      ]
    },
    {
      "cell_type": "markdown",
      "metadata": {
        "id": "9QYIfpCiHsQk"
      },
      "source": [
        ""
      ]
    },
    {
      "cell_type": "code",
      "metadata": {
        "id": "tqDr6ZSOHtSo"
      },
      "source": [
        ""
      ],
      "execution_count": null,
      "outputs": []
    },
    {
      "cell_type": "markdown",
      "metadata": {
        "id": "KDC-FsPbHd0v"
      },
      "source": [
        ""
      ]
    },
    {
      "cell_type": "code",
      "metadata": {
        "id": "1mi8Ef4tHtm9"
      },
      "source": [
        ""
      ],
      "execution_count": null,
      "outputs": []
    }
  ]
}