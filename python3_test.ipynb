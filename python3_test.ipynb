{
  "nbformat": 4,
  "nbformat_minor": 0,
  "metadata": {
    "colab": {
      "name": "python3 test.ipynb",
      "provenance": [],
      "authorship_tag": "ABX9TyMUeExdxeHIHuBbkev6iOwH",
      "include_colab_link": true
    },
    "kernelspec": {
      "name": "python3",
      "display_name": "Python 3"
    }
  },
  "cells": [
    {
      "cell_type": "markdown",
      "metadata": {
        "id": "view-in-github",
        "colab_type": "text"
      },
      "source": [
        "<a href=\"https://colab.research.google.com/github/cohenr51/Hello-World-2/blob/master/python3_test.ipynb\" target=\"_parent\"><img src=\"https://colab.research.google.com/assets/colab-badge.svg\" alt=\"Open In Colab\"/></a>"
      ]
    },
    {
      "cell_type": "code",
      "metadata": {
        "colab": {
          "base_uri": "https://localhost:8080/"
        },
        "id": "GmgBB3IV5KqC",
        "outputId": "7dad505a-9f79-4d31-c00c-59a509f4d97f"
      },
      "source": [
        "import time\r\n",
        "print(time.ctime())"
      ],
      "execution_count": 5,
      "outputs": [
        {
          "output_type": "stream",
          "text": [
            "Fri Jan 29 20:57:46 2021\n"
          ],
          "name": "stdout"
        }
      ]
    },
    {
      "cell_type": "code",
      "metadata": {
        "colab": {
          "base_uri": "https://localhost:8080/"
        },
        "id": "wB_RINly5rR8",
        "outputId": "e9f9953d-aeab-4cba-e666-a738ceb30b62"
      },
      "source": [
        "time.sleep(5)\r\n",
        "print(time.ctime())"
      ],
      "execution_count": 6,
      "outputs": [
        {
          "output_type": "stream",
          "text": [
            "Fri Jan 29 20:57:51 2021\n"
          ],
          "name": "stdout"
        }
      ]
    },
    {
      "cell_type": "markdown",
      "metadata": {
        "id": "i2vONJAz7x-k"
      },
      "source": [
        "This is **bold**.\r\n",
        "This is *italic*.\r\n",
        "This is ~strikethrough~.\r\n",
        "**helo world**\r\n",
        "~erase~\r\n",
        "*kuku*\r\n"
      ]
    },
    {
      "cell_type": "markdown",
      "metadata": {
        "id": "ingdmCDJ8TVU"
      },
      "source": [
        "$\\sqrt{3x-1}+(1+x)^2$\r\n",
        "$e^x = \\sum_{i = 0}^\\infty \\frac{1}{i!}x^i$\r\n",
        "- $3x_1 + 6x_2 + x_3 =< 28$\r\n",
        "- $7x_1 + 3x_2 + 2x_3 =< 37$\r\n",
        "- $4x_1 + 5x_2 + 2x_3 =< 19$\r\n",
        "- $x_1,x_2,x_3 >=0 $\r\n",
        "\r\n",
        "The trial vector is calculated as follows:\r\n",
        "- $u_i(t) = x_i(t) + \\theta(\\hat{x}(t) − x_i(t)) + \\beta \\sum_{k = 1}^{n_v}(x_{i1,k}(t) − x_{i2,k}(t))$\r\n",
        "$f(x_1, x_2) = 20 + e - 20exp(-0.2 \\sqrt {\\frac {1}{n} (x_1^2 + x_2^2)}) - exp (\\frac {1}{n}(cos(2\\pi x_1) + cos(2\\pi x_2))$\r\n",
        "\r\n",
        "$x ∈ [-5, 5]$\r\n",
        ">$A_{m,n} =\r\n",
        "   \\begin{pmatrix}\r\n",
        "   a_{1,1} > a_{1,2} > \\cdots > a_{1,n} \\\\\r\n",
        "   a_{2,1} > a_{2,2} > \\cdots > a_{2,n} \\\\\r\n",
        "   \\vdots > \\vdots > \\ddots > \\vdots \\\\\r\n",
        "   a_{m,1} > a_{m,2} > \\cdots > a_{m,n}\r\n",
        "   \\end{pmatrix}$\r\n",
        "\r\n",
        "   300\r\n"
      ]
    }
  ]
}